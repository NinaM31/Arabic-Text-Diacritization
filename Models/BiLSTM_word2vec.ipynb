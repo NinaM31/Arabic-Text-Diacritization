{
 "cells": [
  {
   "cell_type": "markdown",
   "metadata": {
    "id": "iTwVx-i4B_Dn"
   },
   "source": [
    "# 1- Setup Project"
   ]
  },
  {
   "cell_type": "code",
   "execution_count": 1,
   "metadata": {
    "colab": {
     "base_uri": "https://localhost:8080/"
    },
    "id": "2-KshqcWmWrF",
    "outputId": "a966c719-ffef-4f3b-e655-91ac709ccd05"
   },
   "outputs": [],
   "source": [
    "# from google.colab import drive\n",
    "# drive.mount('/content/drive')"
   ]
  },
  {
   "cell_type": "code",
   "execution_count": 2,
   "metadata": {
    "colab": {
     "base_uri": "https://localhost:8080/"
    },
    "id": "PoBoeJn_mWn1",
    "outputId": "48253497-a843-4c82-eb05-21784c36f3e6"
   },
   "outputs": [],
   "source": [
    "# %cd /content/drive/MyDrive/ATD-WSD\n",
    "\n",
    "# # Create dir to for storing trained model\n",
    "# #!mkdir Baseline-w2v"
   ]
  },
  {
   "cell_type": "code",
   "execution_count": 3,
   "metadata": {
    "id": "tch6Y_RWmWkx"
   },
   "outputs": [],
   "source": [
    "# !pip install numpy==1.23.1\n",
    "# !pip install tensorflow==2.14.0"
   ]
  },
  {
   "cell_type": "code",
   "execution_count": 4,
   "metadata": {
    "id": "pVmQYpAWmWhy"
   },
   "outputs": [],
   "source": [
    "import re\n",
    "import pickle\n",
    "import json\n",
    "import numpy as np\n",
    "import time\n",
    "import random\n",
    "import joblib\n",
    "\n",
    "import tensorflow as tf\n",
    "from tensorflow.keras.preprocessing.text import Tokenizer\n",
    "from gensim.models import Word2Vec\n",
    "from sklearn.feature_extraction.text import TfidfVectorizer\n",
    "from keras.models import Model\n",
    "from tensorflow.keras.layers import Input\n",
    "from keras.layers import Embedding, Dense, Dropout, LSTM, Bidirectional, TimeDistributed, InputLayer\n",
    "from tensorflow.keras.models import Sequential\n",
    "from keras.optimizers import Adam\n",
    "from keras.utils import Sequence\n",
    "from keras.initializers import glorot_normal\n",
    "from keras.callbacks import ModelCheckpoint\n",
    "from rich import print_json"
   ]
  },
  {
   "cell_type": "code",
   "execution_count": 5,
   "metadata": {
    "colab": {
     "base_uri": "https://localhost:8080/"
    },
    "id": "sqoGoZ2VmWex",
    "outputId": "e6f9c5f0-ac9c-4c70-83fb-184b39328d52"
   },
   "outputs": [
    {
     "name": "stdout",
     "output_type": "stream",
     "text": [
      "Default GPU Device: /device:GPU:0\n"
     ]
    }
   ],
   "source": [
    "if tf.test.gpu_device_name():\n",
    "    print('Default GPU Device: {}'.format(tf.test.gpu_device_name()))\n",
    "else:\n",
    "    print(\"GPU device not found: working on CPU\")"
   ]
  },
  {
   "cell_type": "markdown",
   "metadata": {
    "id": "lklEh4uKCii9"
   },
   "source": [
    "# 2- Importing Dataset\n",
    "The dataset that was prepared using Gemini which is 20% of the train, 100% val and testing taken from [original dataset](https://github.com/AliOsm/arabic-text-diacritization/tree/master/dataset)\n",
    "```\n",
    "[{\n",
    "    \"sentence\": \"some text in arabic\",\n",
    "    \"words\": [\n",
    "      {\n",
    "        \"word\": \"word_1\",\n",
    "        \"word_sense\": \"definition_1\"\n",
    "        \"pos\" : \"part_of_speech_1\"\n",
    "      }\n",
    "    ]\n",
    "}]\n",
    "```\n",
    "\n",
    "***⚠️This baseline model will use the sentences without the sense***"
   ]
  },
  {
   "cell_type": "code",
   "execution_count": 6,
   "metadata": {
    "id": "Blt3y72LmWbr"
   },
   "outputs": [],
   "source": [
    "# Helpers\n",
    "def read_json(file_path):\n",
    "  with open(file_path, mode=\"r\", encoding=\"utf-8\") as json_data:\n",
    "    return get_sentences(json.load(json_data))\n",
    "\n",
    "def get_sentences(data):\n",
    "  sentences = []\n",
    "  for s in data:\n",
    "    sentences.append(s['sentence'])\n",
    "  return sentences\n",
    "\n",
    "def pprint(json_data):\n",
    "  print_json(data=json_data, highlight=False)"
   ]
  },
  {
   "cell_type": "code",
   "execution_count": 7,
   "metadata": {
    "colab": {
     "base_uri": "https://localhost:8080/"
    },
    "id": "OwGB9ooSmWYT",
    "outputId": "e63df9da-e1ff-4d31-8fa7-f025e47dc27b"
   },
   "outputs": [
    {
     "name": "stdout",
     "output_type": "stream",
     "text": [
      "Training data length: 10485\n",
      "Train Sample\n",
      "فَاسِدٌ\n",
      "Validation data length: 2517\n",
      "Val Sample\n",
      "وَلَوْ لَمْ تَزِدْ( 26 / 106 )\n"
     ]
    }
   ],
   "source": [
    "train_data = read_json(\"../Dataset/10485_train_wsd.json\")\n",
    "val_data = read_json(\"../Dataset/2517_val_wsd.json\")\n",
    "# train_data = train_data[:-8485]\n",
    "# val_data = val_data[:-2100]\n",
    "print('Training data length:', len(train_data))\n",
    "print(\"Train Sample\")\n",
    "print(train_data[100])\n",
    "\n",
    "print('Validation data length:', len(val_data))\n",
    "print(\"Val Sample\")\n",
    "print(val_data[1])"
   ]
  },
  {
   "cell_type": "markdown",
   "metadata": {
    "id": "G5hK3htvKgvM"
   },
   "source": [
    "# 3- Constants"
   ]
  },
  {
   "cell_type": "code",
   "execution_count": 8,
   "metadata": {
    "id": "9sdWVjt1Qv67"
   },
   "outputs": [],
   "source": [
    "# Helpers\n",
    "def CHAR_IDX(LIST):\n",
    "    char2idx = {}\n",
    "    idx2char = {}\n",
    "\n",
    "    for i, char in enumerate(LIST):\n",
    "        char2idx[char] = i\n",
    "        idx2char[i] = char\n",
    "\n",
    "    return char2idx, idx2char"
   ]
  },
  {
   "cell_type": "code",
   "execution_count": 9,
   "metadata": {
    "id": "smVTAeOjKggL"
   },
   "outputs": [],
   "source": [
    "ARABIC_CHAR = \"ىعظحرسيشضقثلصطكآماإهزءأفؤغجئدةخوبذتن\"\n",
    "NUMBERS = \"0123456789٠١٢٣٤٥٦٧٨٩\"\n",
    "\n",
    "# 15 possible Diacritics\n",
    "FATHATAN = u'\\u064b'\n",
    "DAMMATAN = u'\\u064c'\n",
    "KASRATAN = u'\\u064d'\n",
    "FATHA = u'\\u064e'\n",
    "DAMMA = u'\\u064f'\n",
    "KASRA = u'\\u0650'\n",
    "SHADDA = u'\\u0651'\n",
    "SUKUN = u'\\u0652'\n",
    "\n",
    "DIACRITICS = [\n",
    "    \"\",              # No Diacritic\n",
    "    FATHA,           # Fatha\n",
    "    FATHATAN,        # Fathatah\n",
    "    DAMMA,           # Damma\n",
    "    DAMMATAN,        # Dammatan\n",
    "    KASRA,           # Kasra\n",
    "    KASRATAN,        # Kasratan\n",
    "    SUKUN,           # Sukun\n",
    "    SHADDA,          # Shadda\n",
    "    SHADDA+FATHA,    # Shadda + Fatha\n",
    "    SHADDA+FATHATAN, # Shadda + Fathatah\n",
    "    SHADDA+DAMMA,    # Shadda + Damma\n",
    "    SHADDA+DAMMATAN, # Shadda + Dammatan\n",
    "    SHADDA+KASRA,    # Shadda + Kasra\n",
    "    SHADDA+KASRATAN  # Shadda + Kasratan\n",
    "]\n",
    "\n",
    "PUNCTUATIONS = [\n",
    "    \".\",    \"،\",    \":\",    \"؛\",\n",
    "    \"-\",    \"–\",    \"«\",    \"»\",\n",
    "    \"~\",    \"؟\",    \"!\",    \"*\",\n",
    "    \"(\",    \")\",    \"[\",    \"]\",\n",
    "    \"{\",    \"}\",    \";\",    \"\\n\",\n",
    "    \"'\",    \"\\\"\",   \"`\",    \"/\",\n",
    "    \",\",    \"?\",    '’',    '“',\n",
    "    '…',    '﴾',    '﴿',    \"+\",\n",
    "    \"*\",    \"=\",    \"&\",    \"_\",\n",
    "    \"\\n\",   \"\\u200d\",       \"\\u200f\"\n",
    "]\n",
    "\n",
    "\n",
    "# Special Tokens\n",
    "UNK_TOKEN = \"u\"\n",
    "PAD_TOKEN = \"p\"\n",
    "SOS_TOKEN = \"s\"\n",
    "EOS_TOKEN = \"e\"\n",
    "SPECIAL_TOKENS = [PAD_TOKEN, SOS_TOKEN, EOS_TOKEN, UNK_TOKEN]\n",
    "\n",
    "# Combine\n",
    "ARABIC_CHAR_SPACE = list(ARABIC_CHAR) + [' ']\n",
    "ARABIC_CHAR_VALID = ARABIC_CHAR_SPACE + DIACRITICS\n",
    "ALLCHARS = ARABIC_CHAR_SPACE + list(NUMBERS) + PUNCTUATIONS + SPECIAL_TOKENS\n",
    "CLASSES = DIACRITICS + SPECIAL_TOKENS"
   ]
  },
  {
   "cell_type": "code",
   "execution_count": 10,
   "metadata": {
    "colab": {
     "base_uri": "https://localhost:8080/"
    },
    "id": "X4RjJXjyLw2e",
    "outputId": "0b3f9cc5-3e58-42f4-9230-c4ade891d896"
   },
   "outputs": [
    {
     "name": "stdout",
     "output_type": "stream",
     "text": [
      "Char Mapping Size: 98\n",
      "Class Mapping Size: 19\n"
     ]
    }
   ],
   "source": [
    "char_mapping, reverse_char_mapping = CHAR_IDX(ALLCHARS)\n",
    "class_mapping, reverse_class_mapping = CHAR_IDX(CLASSES)\n",
    "\n",
    "print(\"Char Mapping Size:\", len(char_mapping))\n",
    "print(\"Class Mapping Size:\", len(class_mapping))"
   ]
  },
  {
   "cell_type": "markdown",
   "metadata": {
    "id": "Ge171xcVEiUj"
   },
   "source": [
    "# 4- Helper Functions"
   ]
  },
  {
   "cell_type": "code",
   "execution_count": 11,
   "metadata": {
    "id": "pKp_49w2mWSl"
   },
   "outputs": [],
   "source": [
    "def remove_diacritics_line(data):\n",
    "    return data.translate(str.maketrans('', '', ''.join(DIACRITICS)))\n",
    "\n",
    "def get_max_size(data):\n",
    "  return max(len(remove_diacritics_line(item).strip()) for item in data)\n",
    "\n",
    "def get_min_size(data):\n",
    "  return min(len(remove_diacritics_line(item).strip()) for item in data)\n",
    "\n",
    "def one_hot_matrix(data, size):\n",
    "    one_hot_matrix = [[1 if j == i else 0 for j in range(size)] for i in data]\n",
    "    return one_hot_matrix\n",
    "\n",
    "def one_hot_vector(index , size):\n",
    "    one_hot_vector = [1 if j == index else 0 for j in range(size)]\n",
    "    return one_hot_vector\n",
    "\n",
    "def punc_split(data):\n",
    "  split_data = list()\n",
    "  for line in data:\n",
    "    line = line.replace('.', '.\\n')\n",
    "    line = line.replace(',', ',\\n')\n",
    "    line = line.replace('،', '،\\n')\n",
    "    line = line.replace(':', ':\\n')\n",
    "    line = line.replace(';', ';\\n')\n",
    "    line = line.replace('؛', '؛\\n')\n",
    "    line = line.replace('(', '\\n(')\n",
    "    line = line.replace(')', ')\\n')\n",
    "    line = line.replace('[', '\\n[')\n",
    "    line = line.replace(']', ']\\n')\n",
    "    line = line.replace('{', '\\n{')\n",
    "    line = line.replace('}', '}\\n')\n",
    "    line = line.replace('«', '\\n«')\n",
    "    line = line.replace('»', '»\\n')\n",
    "    line = line.replace('؟', '؟\\n')\n",
    "    line = line.replace('?', '?\\n')\n",
    "    line = line.replace('!', '!\\n')\n",
    "    line = line.replace('-', '-\\n')\n",
    "\n",
    "    split_data += line.split('\\n')\n",
    "\n",
    "  return split_data\n",
    "\n",
    "def split_on_length(data, max_len=100):\n",
    "    splitted_data = list()\n",
    "\n",
    "    for sentence in punc_split(data):\n",
    "       new_sentence = remove_diacritics_line(sentence).strip()\n",
    "\n",
    "       if len(new_sentence) != 0:\n",
    "          if len(new_sentence) > 0 and len(new_sentence) <= max_len:\n",
    "                  splitted_data.append(sentence.strip())\n",
    "          else:\n",
    "            sentence_words = sentence.split()\n",
    "            temp_sentence = ''\n",
    "\n",
    "            for word in sentence_words:\n",
    "              if len(remove_diacritics_line(temp_sentence).strip()) + len(remove_diacritics_line(word).strip()) + 1 > max_len:\n",
    "                  if len(remove_diacritics_line(temp_sentence).strip()) > 0:\n",
    "                      splitted_data.append(temp_sentence.strip())\n",
    "                  temp_sentence = word\n",
    "\n",
    "              else:\n",
    "                  temp_sentence = word if temp_sentence == '' else temp_sentence + ' ' + word\n",
    "\n",
    "            if len(remove_diacritics_line(temp_sentence).strip()) > 0:\n",
    "                  splitted_data.append(temp_sentence.strip())\n",
    "\n",
    "    return splitted_data\n",
    "\n",
    "def train_word_embeddings(docs):\n",
    "    tokenizer = Tokenizer(oov_token='<OOV>')\n",
    "    tokenizer.fit_on_texts(docs)\n",
    "\n",
    "    sentences = [doc.split() for doc in docs ]\n",
    "    sentences.append([UNK_TOKEN])\n",
    "    word2vec_model = Word2Vec(sentences, vector_size = 300, window=5, min_count=1, workers=4)\n",
    "\n",
    "    word_embeddings = word2vec_model.wv\n",
    "\n",
    "    return word_embeddings, tokenizer\n",
    "\n",
    "def get_word_embeddings(word):\n",
    "    encoded_docs = tokenizer.texts_to_sequences(word)\n",
    "    word_embeddings_for_sample = []\n",
    "    for word_index in encoded_docs:\n",
    "      if len(word_index) > 0:\n",
    "        if word_index[0] in data_embeddings:\n",
    "          word_embeddings_for_sample.append(data_embeddings[word_index[0]])\n",
    "\n",
    "    return word_embeddings_for_sample"
   ]
  },
  {
   "cell_type": "markdown",
   "metadata": {
    "id": "3YTSfJP5oL6P"
   },
   "source": [
    "# 5- Prepare Data"
   ]
  },
  {
   "cell_type": "code",
   "execution_count": 12,
   "metadata": {
    "colab": {
     "base_uri": "https://localhost:8080/"
    },
    "id": "mVqH68dByDKY",
    "outputId": "1f3e5777-936a-43f0-8be0-af173d1c11d2"
   },
   "outputs": [
    {
     "name": "stdout",
     "output_type": "stream",
     "text": [
      "Train Data Size: 37543\n",
      "Training data max: 100\n",
      "Training data min: 1\n",
      "Train Sample: ['وَلَوْ جَمَعَ ثُمَّ عَلِمَ تَرْكَ رُكْنٍ مِنْ الْأُولَى بَطَلَتَا وَيُعِيدُهُمَا جَامِعًا ،', 'أَوْ مِنْ الثَّانِيَةِ ،']\n",
      "\n",
      "Val Data Size: 16515\n",
      "Validation data max: 100\n",
      "Validation data min: 1\n",
      "Val Sample: ['وَقَوْلُهُ', '( وَلَوْ حَلَفَ لَا يَجْلِسُ عَلَى سَرِيرٍ )']\n"
     ]
    }
   ],
   "source": [
    "split_length_train_data      = split_on_length(train_data)\n",
    "split_length_val_data      = split_on_length(val_data)\n",
    "\n",
    "print(\"Train Data Size:\", len(split_length_train_data))\n",
    "print('Training data max:', get_max_size(split_length_train_data))\n",
    "print('Training data min:', get_min_size(split_length_train_data))\n",
    "print(\"Train Sample:\", split_length_train_data[0:2])\n",
    "print()\n",
    "\n",
    "print(\"Val Data Size:\", len(split_length_val_data))\n",
    "print('Validation data max:', get_max_size(split_length_val_data))\n",
    "print('Validation data min:', get_min_size(split_length_val_data))\n",
    "print(\"Val Sample:\", split_length_val_data[0:2])"
   ]
  },
  {
   "cell_type": "markdown",
   "metadata": {
    "id": "hCucn8BZ8nzE"
   },
   "source": [
    "#### Data without diacritics and without punc and numbers"
   ]
  },
  {
   "cell_type": "code",
   "execution_count": 13,
   "metadata": {
    "colab": {
     "base_uri": "https://localhost:8080/"
    },
    "id": "hHz280qHoBuL",
    "outputId": "76651ea0-b259-4568-cca8-490df6b6f96e"
   },
   "outputs": [
    {
     "name": "stdout",
     "output_type": "stream",
     "text": [
      "Training data length: 33348\n",
      "Validation data length: 14825\n",
      "['وَلَوْ جَمَعَ ثُمَّ عَلِمَ تَرْكَ رُكْنٍ مِنْ الْأُولَى بَطَلَتَا وَيُعِيدُهُمَا جَامِعًا', 'أَوْ مِنْ الثَّانِيَةِ', 'فَإِنْ لَمْ يَطُلْ تَدَارَكَ', 'وَإِلَّا فَبَاطِلَةٌ وَلَا جَمَعَ', 'وَلَوْ جَهِلَ أَعَادَهُمَا لِوَقْتَيْهِمَا']\n"
     ]
    }
   ],
   "source": [
    "clean_diac_train_data = [(''.join(char for char in text if char in ARABIC_CHAR_VALID)).strip() for text in split_length_train_data]\n",
    "clean_diac_val_data = [(''.join(char for char in text if char in ARABIC_CHAR_VALID)).strip() for text in split_length_val_data]\n",
    "\n",
    "clean_diac_train_data = [item for item in clean_diac_train_data if item != \"\"]\n",
    "clean_diac_val_data   = [item for item in clean_diac_val_data if item != \"\"]\n",
    "\n",
    "print('Training data length:', len(clean_diac_train_data))\n",
    "print('Validation data length:', len(clean_diac_val_data))\n",
    "\n",
    "print(clean_diac_train_data[0:5])"
   ]
  },
  {
   "cell_type": "markdown",
   "metadata": {
    "id": "SEPnoVft8dyp"
   },
   "source": [
    "#### Data with diacritics and without punc and numbers"
   ]
  },
  {
   "cell_type": "code",
   "execution_count": 14,
   "metadata": {
    "colab": {
     "base_uri": "https://localhost:8080/"
    },
    "id": "pQ6mag5FoBrb",
    "outputId": "8b690a85-0b27-44d0-8984-dac33dfbcb12"
   },
   "outputs": [
    {
     "name": "stdout",
     "output_type": "stream",
     "text": [
      "Training data length: 33348\n",
      "Validation data length: 14825\n",
      "['ولو جمع ثم علم ترك ركن من الأولى بطلتا ويعيدهما جامعا', 'أو من الثانية']\n"
     ]
    }
   ],
   "source": [
    "clean_train_data = [remove_diacritics_line(text) for text in clean_diac_train_data]\n",
    "clean_val_data = [remove_diacritics_line(text) for text in clean_diac_val_data]\n",
    "\n",
    "print('Training data length:', len(clean_train_data))\n",
    "print('Validation data length:', len(clean_val_data))\n",
    "\n",
    "print(clean_train_data[0:2])"
   ]
  },
  {
   "cell_type": "markdown",
   "metadata": {
    "id": "ET_nC50K86C_"
   },
   "source": [
    "#### Train word embedding"
   ]
  },
  {
   "cell_type": "code",
   "execution_count": 15,
   "metadata": {
    "id": "yP1XBrwooBmO"
   },
   "outputs": [],
   "source": [
    "data_to_embeddings = clean_train_data + clean_val_data\n",
    "data_embeddings, tokenizer = train_word_embeddings(data_to_embeddings)"
   ]
  },
  {
   "cell_type": "markdown",
   "metadata": {
    "id": "s8Q1H6ZKacWb"
   },
   "source": [
    "# 6- Custom Data Generator"
   ]
  },
  {
   "cell_type": "code",
   "execution_count": 16,
   "metadata": {
    "id": "b1dnZ-DeoBgd"
   },
   "outputs": [],
   "source": [
    "def get_sentence_classes(data_raw):\n",
    "    x = []\n",
    "    y = []\n",
    "\n",
    "    sos_emb = get_word_embeddings([SOS_TOKEN])[0]\n",
    "    unk_emb = get_word_embeddings([UNK_TOKEN])[0]\n",
    "    vec = []\n",
    "    vec = one_hot_vector(char_mapping[SOS_TOKEN],len(char_mapping))\n",
    "    vec.extend(sos_emb)\n",
    "    x.append(vec)\n",
    "    y.append(one_hot_vector(class_mapping[SOS_TOKEN],len(class_mapping)))\n",
    "    \n",
    "    for word in data_raw: \n",
    "        emb2 = get_word_embeddings(remove_diacritics_line(word))\n",
    "        \n",
    "        if (len(emb2) == 0):\n",
    "            emb = unk_emb\n",
    "        else:\n",
    "            emb = emb2[0]\n",
    "    \n",
    "        if word in PUNCTUATIONS:\n",
    "          emb = unk_emb\n",
    "        else:\n",
    "          if (len(emb2) == 0):\n",
    "            emb = unk_emb\n",
    "          else:\n",
    "            emb = emb2[0]   \n",
    "              \n",
    "        for idx, char in enumerate(word):\n",
    "            if char in DIACRITICS:\n",
    "                continue\n",
    "                \n",
    "            vec = []\n",
    "            vec = one_hot_vector(char_mapping[char],len(char_mapping))\n",
    "            vec.extend(emb)\n",
    "            x.append(vec) \n",
    "            \n",
    "            if char not in list(ARABIC_CHAR):\n",
    "                y.append(one_hot_vector(class_mapping[UNK_TOKEN],len(class_mapping)))\n",
    "            else: \n",
    "                char_diac = ''\n",
    "                if idx + 1 < len(word) and word[idx + 1] in DIACRITICS:\n",
    "                    char_diac = word[idx + 1]\n",
    "                    if idx + 2 < len(word) and word[idx + 2] in DIACRITICS and char_diac + word[idx + 2] in char_mapping:\n",
    "                        char_diac += line[idx + 2]\n",
    "                    elif idx + 2 < len(word) and word[idx + 2] in DIACRITICS and word[idx + 2] + char_diac in class_mapping:\n",
    "                        char_diac = word[idx + 2] + char_diac      \n",
    "                y.append(one_hot_vector(class_mapping[char_diac],len(class_mapping)))\n",
    "        \n",
    "        eos_emb = get_word_embeddings([EOS_TOKEN])[0]\n",
    "        vec = []\n",
    "        vec = one_hot_vector(char_mapping[EOS_TOKEN],len(char_mapping))\n",
    "        vec.extend(eos_emb)      \n",
    "        x.append(vec)\n",
    "        y.append(one_hot_vector(class_mapping[EOS_TOKEN],len(class_mapping)))\n",
    "\n",
    "    assert(len(x) == len(y))\n",
    "    return x, y"
   ]
  },
  {
   "cell_type": "code",
   "execution_count": 17,
   "metadata": {
    "id": "8K_GCQrRmWAs"
   },
   "outputs": [],
   "source": [
    "def get_classes(data):\n",
    "  X = []\n",
    "  Y = []\n",
    "    \n",
    "  for sentence in data:\n",
    "    x, y = get_sentence_classes([sentence])\n",
    "    X.append(x)\n",
    "    Y.append(y)\n",
    "   \n",
    "  X = np.asarray(X)\n",
    "  Y = np.asarray(Y)\n",
    "  return X, Y\n",
    "\n",
    "class custom_data_generator(Sequence):\n",
    "\n",
    "    def __init__(self, data, batch_size):\n",
    "        self.lines  = data\n",
    "        self.batch_size = batch_size\n",
    "\n",
    "    def __len__(self):\n",
    "        return int(np.ceil(len(self.lines) / float(self.batch_size)))\n",
    "\n",
    "    def __getitem__(self, idx):\n",
    "        lines = self.lines[idx * self.batch_size:(idx + 1) * self.batch_size]\n",
    "        X_batch, Y_batch = get_classes(lines)\n",
    "        \n",
    "        X_max_seq_len = np.max([len(x) for x in X_batch])\n",
    "        Y_max_seq_len = np.max([len(y) for y in Y_batch])\n",
    "        \n",
    "        assert(X_max_seq_len == Y_max_seq_len)\n",
    "\n",
    "        pad_emb = get_word_embeddings([PAD_TOKEN])[0]\n",
    "        vec = []\n",
    "        vec = one_hot_vector(char_mapping[PAD_TOKEN],len(char_mapping))\n",
    "        vec.extend(pad_emb)\n",
    "\n",
    "        X = []\n",
    "        for x in X_batch:\n",
    "            x = list(x)\n",
    "            x.extend([vec] * (X_max_seq_len - len(x)))\n",
    "            X.append(np.asarray(x))\n",
    "        \n",
    "        Y = []\n",
    "        for y in Y_batch:\n",
    "            padding_length = Y_max_seq_len - len(y)\n",
    "            y = list(y)\n",
    "            y.extend(one_hot_matrix([class_mapping[PAD_TOKEN]] * (padding_length), len(class_mapping)))\n",
    "            Y.append(np.asarray(y))\n",
    "\n",
    "        X, Y = np.asarray(X), np.asarray(Y)\n",
    "        return X, Y"
   ]
  },
  {
   "cell_type": "code",
   "execution_count": 18,
   "metadata": {
    "id": "Y2soLOb3ohZx"
   },
   "outputs": [],
   "source": [
    "def build_model():\n",
    "   model = Sequential()\n",
    "   model.add(InputLayer(input_shape=(None, 398)))\n",
    "\n",
    "   model.add(Bidirectional(LSTM(units=256,return_sequences=True,kernel_initializer=glorot_normal(seed=500))))\n",
    "   model.add(Dropout(0.5))\n",
    "   model.add(Bidirectional(LSTM(units=256,return_sequences=True,kernel_initializer=glorot_normal(seed=500))))\n",
    "   model.add(Dropout(0.5))\n",
    "   model.add(Bidirectional(LSTM(units=256,return_sequences=True,kernel_initializer=glorot_normal(seed=500))))\n",
    "   model.add(TimeDistributed(Dense(units=512,activation='relu',kernel_initializer=glorot_normal(seed=500))))\n",
    "   model.add(TimeDistributed(Dense(units=512,activation='relu',kernel_initializer=glorot_normal(seed=500))))\n",
    "   model.add(TimeDistributed(Dense(units=len(class_mapping),activation='softmax',kernel_initializer=glorot_normal(seed=500))))\n",
    "   model.compile(loss='categorical_crossentropy', optimizer=Adam(), metrics=['accuracy'])\n",
    "   return model"
   ]
  },
  {
   "cell_type": "code",
   "execution_count": 19,
   "metadata": {
    "colab": {
     "base_uri": "https://localhost:8080/"
    },
    "id": "KOMzl4wAohRq",
    "outputId": "0e82877a-c4ec-4950-8e9b-92447be70bff"
   },
   "outputs": [
    {
     "name": "stdout",
     "output_type": "stream",
     "text": [
      "Model: \"sequential\"\n",
      "_________________________________________________________________\n",
      " Layer (type)                Output Shape              Param #   \n",
      "=================================================================\n",
      " bidirectional (Bidirectiona  (None, None, 512)        1341440   \n",
      " l)                                                              \n",
      "                                                                 \n",
      " dropout (Dropout)           (None, None, 512)         0         \n",
      "                                                                 \n",
      " bidirectional_1 (Bidirectio  (None, None, 512)        1574912   \n",
      " nal)                                                            \n",
      "                                                                 \n",
      " dropout_1 (Dropout)         (None, None, 512)         0         \n",
      "                                                                 \n",
      " bidirectional_2 (Bidirectio  (None, None, 512)        1574912   \n",
      " nal)                                                            \n",
      "                                                                 \n",
      " time_distributed (TimeDistr  (None, None, 512)        262656    \n",
      " ibuted)                                                         \n",
      "                                                                 \n",
      " time_distributed_1 (TimeDis  (None, None, 512)        262656    \n",
      " tributed)                                                       \n",
      "                                                                 \n",
      " time_distributed_2 (TimeDis  (None, None, 19)         9747      \n",
      " tributed)                                                       \n",
      "                                                                 \n",
      "=================================================================\n",
      "Total params: 5,026,323\n",
      "Trainable params: 5,026,323\n",
      "Non-trainable params: 0\n",
      "_________________________________________________________________\n"
     ]
    }
   ],
   "source": [
    "model = build_model()\n",
    "model.summary()"
   ]
  },
  {
   "cell_type": "code",
   "execution_count": 20,
   "metadata": {
    "id": "bgf8wJQvomsF"
   },
   "outputs": [],
   "source": [
    "def fit_model(model, epochs, batch_size, train_data, val_data):\n",
    "    random.shuffle(train_data)\n",
    "    random.shuffle(val_data)\n",
    "\n",
    "    checkpoint_path = './Checkpoints/Bilstm-WSD/epoch{epoch:02d}.ckpt'\n",
    "    checkpoint_cb = ModelCheckpoint(checkpoint_path, verbose=0)\n",
    "\n",
    "    training_generator = custom_data_generator(train_data, batch_size)\n",
    "    val_generator = custom_data_generator(val_data, batch_size)\n",
    "\n",
    "    history =  model.fit(training_generator,validation_data=val_generator,epochs=epochs,callbacks=[checkpoint_cb])\n",
    "    return history"
   ]
  },
  {
   "cell_type": "code",
   "execution_count": null,
   "metadata": {
    "colab": {
     "base_uri": "https://localhost:8080/"
    },
    "id": "-w9KIkNcomoM",
    "outputId": "c7481d0a-36b4-41ce-eb4f-8bcb610bc4bf"
   },
   "outputs": [],
   "source": [
    "history = fit_model(model, 10, 256, clean_diac_train_data, clean_diac_val_data)"
   ]
  },
  {
   "cell_type": "markdown",
   "metadata": {
    "id": "ewXj0HZCKjMo"
   },
   "source": [
    "# 7- Checkpoint"
   ]
  },
  {
   "cell_type": "code",
   "execution_count": 22,
   "metadata": {
    "id": "mpKJRuWNomfK"
   },
   "outputs": [],
   "source": [
    "joblib.dump(model, 'baseline.joblib')\n",
    "filename = 'baseline.sav'\n",
    "pickle.dump(model, open(filename, 'wb'))"
   ]
  },
  {
   "cell_type": "code",
   "execution_count": 23,
   "metadata": {},
   "outputs": [
    {
     "data": {
      "image/png": "[encoded data removed]",
      "text/plain": [
       "<Figure size 640x480 with 1 Axes>"
      ]
     },
     "metadata": {},
     "output_type": "display_data"
    }
   ],
   "source": [
    "from matplotlib import pyplot as plt\n",
    "\n",
    "plt.plot(history.history['accuracy'])\n",
    "plt.plot(history.history['val_accuracy'])\n",
    "plt.title('model accuracy')\n",
    "plt.ylabel('accuracy')\n",
    "plt.xlabel('epoch')\n",
    "plt.legend(['train', 'val'], loc='upper left')\n",
    "plt.show()"
   ]
  },
  {
   "cell_type": "markdown",
   "metadata": {
    "id": "0u5_tScRK3_M"
   },
   "source": [
    "# 8- Predict"
   ]
  },
  {
   "cell_type": "code",
   "execution_count": 24,
   "metadata": {
    "id": "2pfEp6gNbCcU"
   },
   "outputs": [],
   "source": [
    "def predict(line, model):\n",
    "    line = remove_diacritics_line(line)\n",
    "    \n",
    "    X, _ = get_classes([line])\n",
    "    predictions = model.predict(X, verbose=0).squeeze()\n",
    "    predictions = predictions[1:-1]\n",
    "\n",
    "    output = ''\n",
    "    for char, prediction in zip(line, predictions):\n",
    "        if char in SPECIAL_TOKENS:\n",
    "            continue\n",
    "            \n",
    "        output += char\n",
    "        if char not in list(ARABIC_CHAR):\n",
    "            continue\n",
    "        output += reverse_class_mapping[np.argmax(prediction)]\n",
    "    return output\n",
    "\n",
    "def predict_text(data, model, file_name):\n",
    "  for idx, line in enumerate(data):\n",
    "    output = predict(line, model)\n",
    "    \n",
    "    with open(f\"{file_name}_out.txt\", 'a', encoding=\"utf-8\") as file:\n",
    "      file.write(output + \"\\n\")\n",
    "\n",
    "    with open(f\"{file_name}_inp.txt\", 'a', encoding=\"utf-8\") as file:\n",
    "      file.write(line + \"\\n\")"
   ]
  },
  {
   "cell_type": "code",
   "execution_count": 25,
   "metadata": {
    "id": "meOKesGJmV5l"
   },
   "outputs": [],
   "source": [
    "model_file_path = 'baseline.joblib'\n",
    "model = joblib.load(model_file_path)"
   ]
  },
  {
   "cell_type": "code",
   "execution_count": 26,
   "metadata": {
    "colab": {
     "base_uri": "https://localhost:8080/"
    },
    "id": "J1H_mVk4yS_H",
    "outputId": "71b12963-3d02-4dfc-c21a-4f7596909df0"
   },
   "outputs": [
    {
     "name": "stdout",
     "output_type": "stream",
     "text": [
      "Testing data length: 2528\n",
      "Test Sample\n"
     ]
    }
   ],
   "source": [
    "test_data = read_json(\"../Dataset/2528_test_wsd.json\")\n",
    "\n",
    "print('Testing data length:', len(test_data))\n",
    "print(\"Test Sample\")\n",
    "# print(test_data[100])"
   ]
  },
  {
   "cell_type": "code",
   "execution_count": 27,
   "metadata": {},
   "outputs": [],
   "source": [
    "predict_text(test_data, model, \"./Outputs/Baseline_w2v\")"
   ]
  },
  {
   "cell_type": "markdown",
   "metadata": {
    "id": "NsEXB7Dimr93"
   },
   "source": [
    "# 9- Error Calculation"
   ]
  },
  {
   "cell_type": "code",
   "execution_count": 30,
   "metadata": {
    "colab": {
     "base_uri": "https://localhost:8080/"
    },
    "id": "u1q2fJlqKOPJ",
    "outputId": "16974bda-ac93-4db9-bb7a-2ac9061e70e2"
   },
   "outputs": [],
   "source": [
    "import sys\n",
    "import argparse\n",
    "import pickle as pkl\n",
    "\n",
    "def get_diacritic_class(idx, line, case_ending, arabic_letters, diacritic_classes):\n",
    "  # Handle without case ending\n",
    "  if not case_ending:\n",
    "    end = True\n",
    "    for i in range(idx + 1, len(line)):\n",
    "      if line[i] not in diacritic_classes:\n",
    "        end = line[i].isspace()\n",
    "        break\n",
    "    if end:\n",
    "      return -1\n",
    "\n",
    "  if idx + 1 >= len(line) or line[idx + 1] not in diacritic_classes:\n",
    "    # No diacritic\n",
    "    return 0\n",
    "\n",
    "  diac = line[idx + 1]\n",
    "\n",
    "  if idx + 2 >= len(line) or line[idx + 2] not in diacritic_classes:\n",
    "    # Only one diacritic\n",
    "    return diacritic_classes.index(diac) + 1\n",
    "\n",
    "  diac += line[idx + 2]\n",
    "\n",
    "  try:\n",
    "    # Try the possibility of double diacritics\n",
    "    return diacritic_classes.index(diac) + 1\n",
    "  except:\n",
    "    try:\n",
    "      # Try the possibility of reversed double diacritics\n",
    "      return diacritic_classes.index(diac[::-1]) + 1\n",
    "    except:\n",
    "      # Otherwise consider only the first diacritic\n",
    "      return diacritic_classes.index(diac[0]) + 1\n",
    "\n",
    "def get_diacritics_classes(line, case_ending, arabic_letters, diacritic_classes, style):\n",
    "  classes = list()\n",
    "  for idx, char in enumerate(line):\n",
    "    if style == 'Fadel':\n",
    "      if char in arabic_letters:\n",
    "        classes.append(get_diacritic_class(idx, line, case_ending, arabic_letters, diacritic_classes))\n",
    "    elif style == 'Zitouni':\n",
    "      if char in diacritic_classes or char.isspace():\n",
    "        continue\n",
    "      classes.append(get_diacritic_class(idx, line, case_ending, arabic_letters, diacritic_classes))\n",
    "  return classes\n",
    "\n",
    "def clear_line(line, arabic_letters, diacritic_classes):\n",
    "  line = ' '.join(''.join([char if char in list(arabic_letters) + diacritic_classes + [' '] else ' ' for char in line]).split())\n",
    "  new_line = ''\n",
    "  for idx, char in enumerate(line):\n",
    "  \tif char not in diacritic_classes or (idx > 0 and line[idx - 1] != ' '):\n",
    "  \t\tnew_line += char\n",
    "  line = new_line\n",
    "  new_line = ''\n",
    "  for idx, char in enumerate(line):\n",
    "  \tif char not in diacritic_classes or (idx > 0 and line[idx - 1] != ' '):\n",
    "  \t\tnew_line += char\n",
    "  return new_line\n",
    "\n",
    "def calculate_der(original_file, target_file, arabic_letters, diacritic_classes, style, case_ending=True, no_diacritic=True):\n",
    "  with open(original_file, 'r', encoding=\"utf8\") as file:\n",
    "    original_content = file.readlines()\n",
    "\n",
    "  with open(target_file, 'r', encoding=\"utf8\") as file:\n",
    "    target_content = file.readlines()\n",
    "\n",
    "  assert(len(original_content) == len(target_content))\n",
    "\n",
    "  equal = 0\n",
    "  not_equal = 0\n",
    "  for (original_line, target_line) in zip(original_content, target_content):\n",
    "    if style == 'Fadel':\n",
    "      original_line = clear_line(original_line, arabic_letters, diacritic_classes)\n",
    "      target_line = clear_line(target_line, arabic_letters, diacritic_classes)\n",
    "\n",
    "    original_classes = get_diacritics_classes(original_line, case_ending, arabic_letters, diacritic_classes, style)\n",
    "    target_classes = get_diacritics_classes(target_line, case_ending, arabic_letters, diacritic_classes, style)\n",
    "    if len(original_classes) != len(target_classes):\n",
    "       continue\n",
    "    assert(len(original_classes) == len(target_classes))\n",
    "\n",
    "    for (original_class, target_class) in zip(original_classes, target_classes):\n",
    "      if not no_diacritic and original_class == 0:\n",
    "        continue\n",
    "      if original_class == -1 and target_class != -1:\n",
    "        print('WOW!')\n",
    "      if original_class != -1 and target_class == -1:\n",
    "        print('WOW!')\n",
    "      if original_class == -1 and target_class == -1:\n",
    "        continue\n",
    "\n",
    "      equal += (original_class == target_class)\n",
    "      not_equal += (original_class != target_class)\n",
    "\n",
    "  return round(not_equal / max(1, (equal + not_equal)) * 100, 2)\n",
    "\n",
    "def calculate_wer(original_file, target_file, arabic_letters, diacritic_classes, style, case_ending=True, no_diacritic=True):\n",
    "  with open(original_file, 'r', encoding=\"utf8\") as file:\n",
    "    original_content = file.readlines()\n",
    "\n",
    "  with open(target_file, 'r', encoding=\"utf8\") as file:\n",
    "    target_content = file.readlines()\n",
    "\n",
    "  assert(len(original_content) == len(target_content))\n",
    "\n",
    "  equal = 0\n",
    "  not_equal = 0\n",
    "  for idx, (original_line, target_line) in enumerate(zip(original_content, target_content)):\n",
    "    if style == 'Fadel':\n",
    "      original_line = clear_line(original_line, arabic_letters, diacritic_classes)\n",
    "      target_line = clear_line(target_line, arabic_letters, diacritic_classes)\n",
    "\n",
    "    original_line = original_line.split()\n",
    "    target_line = target_line.split()\n",
    "    if len(original_line) != len(target_line):\n",
    "          continue\n",
    "    assert(len(original_line) == len(target_line))\n",
    "\n",
    "    for (original_word, target_word) in zip(original_line, target_line):\n",
    "      original_classes = get_diacritics_classes(original_word, case_ending, arabic_letters, diacritic_classes, style)\n",
    "      target_classes = get_diacritics_classes(target_word, case_ending, arabic_letters, diacritic_classes, style)\n",
    "\n",
    "      if len(original_classes) != len(target_classes):\n",
    "       continue\n",
    "      assert(len(original_classes) == len(target_classes))\n",
    "\n",
    "      if len(original_classes) == 0:\n",
    "        continue\n",
    "\n",
    "      equal_classes = 0\n",
    "      for (original_class, target_class) in zip(original_classes, target_classes):\n",
    "        if not no_diacritic and original_class == 0:\n",
    "          equal_classes += 1\n",
    "          continue\n",
    "        equal_classes += (original_class == target_class)\n",
    "\n",
    "      equal += (equal_classes == len(original_classes))\n",
    "      not_equal += (equal_classes != len(original_classes))\n",
    "\n",
    "  return round(not_equal / max(1, (equal + not_equal)) * 100, 2)\n",
    "\n",
    "def calculate_ser(original_file, target_file, arabic_letters, diacritic_classes, style, case_ending=True, no_diacritic=True):\n",
    "  with open(original_file, 'r', encoding=\"utf8\") as file:\n",
    "    original_content = file.readlines()\n",
    "\n",
    "  with open(target_file, 'r', encoding=\"utf8\") as file:\n",
    "    target_content = file.readlines()\n",
    "\n",
    "  assert(len(original_content) == len(target_content))\n",
    "\n",
    "  equal = 0\n",
    "  not_equal = 0\n",
    "  for idx, (original_line, target_line) in enumerate(zip(original_content, target_content)):\n",
    "    if style == 'Fadel':\n",
    "      original_line = clear_line(original_line, arabic_letters, diacritic_classes)\n",
    "      target_line = clear_line(target_line, arabic_letters, diacritic_classes)\n",
    "\n",
    "    original_line = original_line.split()\n",
    "    target_line = target_line.split()\n",
    "\n",
    "    assert(len(original_line) == len(target_line))\n",
    "\n",
    "    equal_words = True\n",
    "    for (original_word, target_word) in zip(original_line, target_line):\n",
    "      original_classes = get_diacritics_classes(original_word, case_ending, arabic_letters, diacritic_classes, style)\n",
    "      target_classes = get_diacritics_classes(target_word, case_ending, arabic_letters, diacritic_classes, style)\n",
    "      if len(original_classes) != len(target_classes):\n",
    "          continue\n",
    "      assert(len(original_classes) == len(target_classes))\n",
    "\n",
    "      if len(original_classes) == 0:\n",
    "        continue\n",
    "\n",
    "      equal_classes = 0\n",
    "      for (original_class, target_class) in zip(original_classes, target_classes):\n",
    "        if not no_diacritic and original_class == 0:\n",
    "          equal_classes += 1\n",
    "          continue\n",
    "        equal_classes += (original_class == target_class)\n",
    "\n",
    "      if equal_classes != len(original_classes):\n",
    "        equal_words = False\n",
    "\n",
    "    equal += equal_words\n",
    "    not_equal += not equal_words\n",
    "\n",
    "  return round(not_equal / max(1, (equal + not_equal)) * 100, 2)\n",
    "\n",
    "def cl_der(original_file_path, target_file_path, style='Fadel'):\n",
    "  print('+---------------------------------------------------------------------------------------------+')\n",
    "  print('|       |  With case ending  | Without case ending |  With case ending  | Without case ending |')\n",
    "  print('|  DER  |------------------------------------------+------------------------------------------|')\n",
    "  print('|       |          Including no diacritic          |          Excluding no diacritic          |')\n",
    "  print('|-------+------------------------------------------+------------------------------------------|')\n",
    "  print('|   %%   |        %5.2f       |        %5.2f        |        %5.2f       |        %5.2f        |' %\n",
    "        (calculate_der(original_file_path, target_file_path, ARABIC_CHAR_SPACE, DIACRITICS, style),\n",
    "        calculate_der(original_file_path, target_file_path, ARABIC_CHAR_SPACE, DIACRITICS, style, case_ending=False),\n",
    "        calculate_der(original_file_path, target_file_path, ARABIC_CHAR_SPACE, DIACRITICS, style, no_diacritic=False),\n",
    "        calculate_der(original_file_path, target_file_path, ARABIC_CHAR_SPACE, DIACRITICS, style, case_ending=False, no_diacritic=False)))\n",
    "  print('+---------------------------------------------------------------------------------------------+')\n",
    "    \n",
    "  print('')\n",
    "  print('+---------------------------------------------------------------------------------------------+')\n",
    "  print('|       |  With case ending  | Without case ending |  With case ending  | Without case ending |')\n",
    "  print('|  WER  |------------------------------------------+------------------------------------------|')\n",
    "  print('|       |          Including no diacritic          |          Excluding no diacritic          |')\n",
    "  print('|-------+------------------------------------------+------------------------------------------|')\n",
    "  print('|   %%   |        %5.2f       |        %5.2f        |        %5.2f       |        %5.2f        |' %\n",
    "        (calculate_wer(original_file_path, target_file_path, ARABIC_CHAR_SPACE, DIACRITICS, style),\n",
    "        calculate_wer(original_file_path, target_file_path, ARABIC_CHAR_SPACE, DIACRITICS, style, case_ending=False),\n",
    "        calculate_wer(original_file_path, target_file_path, ARABIC_CHAR_SPACE, DIACRITICS, style, no_diacritic=False),\n",
    "        calculate_wer(original_file_path, target_file_path, ARABIC_CHAR_SPACE, DIACRITICS, style, case_ending=False, no_diacritic=False)))"
   ]
  },
  {
   "cell_type": "code",
   "execution_count": 31,
   "metadata": {},
   "outputs": [
    {
     "name": "stdout",
     "output_type": "stream",
     "text": [
      "+---------------------------------------------------------------------------------------------+\n",
      "|       |  With case ending  | Without case ending |  With case ending  | Without case ending |\n",
      "|  DER  |------------------------------------------+------------------------------------------|\n",
      "|       |          Including no diacritic          |          Excluding no diacritic          |\n",
      "|-------+------------------------------------------+------------------------------------------|\n",
      "|   %   |        13.34       |        11.53        |        19.51       |        17.76        |\n",
      "+---------------------------------------------------------------------------------------------+\n",
      "\n",
      "+---------------------------------------------------------------------------------------------+\n",
      "|       |  With case ending  | Without case ending |  With case ending  | Without case ending |\n",
      "|  WER  |------------------------------------------+------------------------------------------|\n",
      "|       |          Including no diacritic          |          Excluding no diacritic          |\n",
      "|-------+------------------------------------------+------------------------------------------|\n",
      "|   %   |        45.44       |        34.56        |        44.73       |        34.03        |\n"
     ]
    }
   ],
   "source": [
    "original_path = \"./Outputs/Baseline_w2v_inp.txt\"\n",
    "predicted_path  = \"./Outputs/Baseline_w2v_out.txt\"\n",
    "cl_der(original_path, predicted_path)"
   ]
  },
  {
   "cell_type": "code",
   "execution_count": null,
   "metadata": {},
   "outputs": [],
   "source": [
    "\n"
   ]
  }
 ],
 "metadata": {
  "accelerator": "GPU",
  "colab": {
   "gpuType": "T4",
   "provenance": []
  },
  "kernelspec": {
   "display_name": "Python 3 (ipykernel)",
   "language": "python",
   "name": "python3"
  },
  "language_info": {
   "codemirror_mode": {
    "name": "ipython",
    "version": 3
   },
   "file_extension": ".py",
   "mimetype": "text/x-python",
   "name": "python",
   "nbconvert_exporter": "python",
   "pygments_lexer": "ipython3",
   "version": "3.10.4"
  }
 },
 "nbformat": 4,
 "nbformat_minor": 4
}
